{
 "cells": [
  {
   "cell_type": "markdown",
   "id": "163a5f12-1b0c-451b-9786-b115fdec4ddf",
   "metadata": {},
   "source": [
    "# DVD Rental Database Advanced SQL Analysis\n",
    "## Comprehensive Analysis of Business-Critical Metrics\n",
    "\n",
    "### Author's Note\n",
    "*This portfolio demonstrates advanced SQL expertise through progressively complex queries addressing real business needs while showcasing technical mastery of SQL concepts.*\n",
    "\n",
    "### Executive Summary\n",
    "This analysis leverages advanced SQL techniques to extract actionable business insights from the DVD rental database. \n",
    "Through 14 carefully crafted queries, we explore everything from basic inventory analysis to complex customer lifetime value \n",
    "calculations, providing a comprehensive view of business operations and opportunities.\n",
    "\n",
    "### Technical Competencies Demonstrated\n",
    "- DISTINCT operations and basic filtering\n",
    "- Advanced CASE statements and conditional logic\n",
    "- Complex JOIN operations (INNER, LEFT, Multiple)\n",
    "- Sophisticated subqueries (Correlated & Uncorrelated)\n",
    "- Advanced aggregation techniques\n",
    "- Date/Time manipulation\n",
    "- String operations and concatenation\n",
    "- Performance optimization patterns\n",
    "\n",
    "### Database Context\n",
    "The analysis utilizes a DVD rental database with interconnected tables including:\n",
    "- films and categories\n",
    "- customer and payment information\n",
    "- rental records\n",
    "- actor and staff details\n",
    "- geographical data (addresses, cities, countries)\n",
    "\n",
    "---\n",
    "###  NOTE: The database connection below uses local credentials. Viewers of this notebook will see the query outputs and charts,  but won't be able to re-run them.\n",
    "---"
   ]
  },
  {
   "cell_type": "code",
   "execution_count": 1,
   "id": "f471d0b5-5c35-4b75-86ce-922d9e724df3",
   "metadata": {},
   "outputs": [
    {
     "name": "stdout",
     "output_type": "stream",
     "text": [
      "Connection to PostgreSQL established successfully using SQLAlchemy.\n",
      "\n"
     ]
    }
   ],
   "source": [
    "import os\n",
    "import pandas as pd\n",
    "import seaborn as sns\n",
    "import matplotlib.pyplot as plt\n",
    "from sqlalchemy import create_engine\n",
    "from dotenv import load_dotenv\n",
    "\n",
    "# Load environment variables from .env\n",
    "load_dotenv()\n",
    "\n",
    "# Configure plotting style\n",
    "sns.set_theme(style=\"whitegrid\")\n",
    "\n",
    "# Fetch credentials from environment\n",
    "db_user = os.getenv(\"PG_USER\")\n",
    "db_password = os.getenv(\"PG_PASSWORD\")\n",
    "db_host = os.getenv(\"PG_HOST\")\n",
    "db_port = os.getenv(\"PG_PORT\")\n",
    "db_name = os.getenv(\"PG_DATABASE\")\n",
    "\n",
    "# Connect to PostgreSQL using SQLAlchemy\n",
    "try:\n",
    "    # Construct the connection URL using environment variables\n",
    "    engine = create_engine(f\"postgresql+psycopg2://{db_user}:{db_password}@{db_host}:{db_port}/{db_name}\")\n",
    "    print(\"Connection to PostgreSQL established successfully using SQLAlchemy.\\n\")\n",
    "except Exception as e:\n",
    "    print(\"Error connecting to database:\", e)\n",
    "\n",
    "# Helper function for query execution\n",
    "def run_query(sql_query):\n",
    "    try:\n",
    "        return pd.read_sql(sql_query, engine)\n",
    "    except Exception as e:\n",
    "        print(\"Error executing query:\", e)\n",
    "        return None"
   ]
  },
  {
   "cell_type": "markdown",
   "id": "5e3952fe-8430-4419-b343-1a827c00c622",
   "metadata": {},
   "source": [
    "\n",
    "#  ─────────────────────────────────────────────\n",
    "# Analysis & Solutions\n",
    "#  ─────────────────────────────────────────────\n"
   ]
  },
  {
   "cell_type": "markdown",
   "id": "7f1a7d17-f3e3-4e30-aca2-f15de8b64a43",
   "metadata": {},
   "source": [
    "# *Query Set 1: Basic Inventory Analysis*\n"
   ]
  },
  {
   "cell_type": "markdown",
   "id": "782bf2d9-c91c-4f30-83d3-149be08afd60",
   "metadata": {},
   "source": [
    "---\n",
    "## Query 1: Replacement Cost Analysis\n",
    "---\n",
    "**Business Need**: Identify all unique replacement costs for inventory valuation."
   ]
  },
  {
   "cell_type": "code",
   "execution_count": 2,
   "id": "a53b0564-e448-4a04-9fdc-3cd058ea76d6",
   "metadata": {},
   "outputs": [
    {
     "name": "stdout",
     "output_type": "stream",
     "text": [
      "QUERY 1 RESULTS (showing first 5 rows):\n"
     ]
    },
    {
     "data": {
      "text/html": [
       "<div>\n",
       "<style scoped>\n",
       "    .dataframe tbody tr th:only-of-type {\n",
       "        vertical-align: middle;\n",
       "    }\n",
       "\n",
       "    .dataframe tbody tr th {\n",
       "        vertical-align: top;\n",
       "    }\n",
       "\n",
       "    .dataframe thead th {\n",
       "        text-align: right;\n",
       "    }\n",
       "</style>\n",
       "<table border=\"1\" class=\"dataframe\">\n",
       "  <thead>\n",
       "    <tr style=\"text-align: right;\">\n",
       "      <th></th>\n",
       "      <th>replacement_cost</th>\n",
       "    </tr>\n",
       "  </thead>\n",
       "  <tbody>\n",
       "    <tr>\n",
       "      <th>0</th>\n",
       "      <td>9.99</td>\n",
       "    </tr>\n",
       "    <tr>\n",
       "      <th>1</th>\n",
       "      <td>10.99</td>\n",
       "    </tr>\n",
       "    <tr>\n",
       "      <th>2</th>\n",
       "      <td>11.99</td>\n",
       "    </tr>\n",
       "    <tr>\n",
       "      <th>3</th>\n",
       "      <td>12.99</td>\n",
       "    </tr>\n",
       "    <tr>\n",
       "      <th>4</th>\n",
       "      <td>13.99</td>\n",
       "    </tr>\n",
       "  </tbody>\n",
       "</table>\n",
       "</div>"
      ],
      "text/plain": [
       "   replacement_cost\n",
       "0              9.99\n",
       "1             10.99\n",
       "2             11.99\n",
       "3             12.99\n",
       "4             13.99"
      ]
     },
     "metadata": {},
     "output_type": "display_data"
    }
   ],
   "source": [
    "q1 = \"\"\"\n",
    "SELECT DISTINCT replacement_cost \n",
    "FROM film\n",
    "ORDER BY 1;\n",
    "\"\"\"\n",
    "df1 = run_query(q1)\n",
    "print(\"QUERY 1 RESULTS (showing first 5 rows):\")\n",
    "display(df1.head(5))"
   ]
  },
  {
   "cell_type": "markdown",
   "id": "478a3bdb-be25-4775-bac3-156b5ab58aa4",
   "metadata": {},
   "source": [
    "**Key Finding**: Minimum replacement cost is $9.99  \n",
    "**Business Impact**: Establishes baseline for inventory investment decisions"
   ]
  },
  {
   "cell_type": "markdown",
   "id": "e34f43d4-3ffb-4b79-acc0-895b8b0308d3",
   "metadata": {},
   "source": [
    "---\n",
    "## Query 2: Cost Range Distribution\n",
    "---\n",
    "**Business Need**: Segment inventory into strategic price bands for management."
   ]
  },
  {
   "cell_type": "code",
   "execution_count": 3,
   "id": "f75f0072-7859-40a4-b7a3-f076779e6015",
   "metadata": {},
   "outputs": [
    {
     "name": "stdout",
     "output_type": "stream",
     "text": [
      "QUERY 2 RESULTS:\n"
     ]
    },
    {
     "data": {
      "text/html": [
       "<div>\n",
       "<style scoped>\n",
       "    .dataframe tbody tr th:only-of-type {\n",
       "        vertical-align: middle;\n",
       "    }\n",
       "\n",
       "    .dataframe tbody tr th {\n",
       "        vertical-align: top;\n",
       "    }\n",
       "\n",
       "    .dataframe thead th {\n",
       "        text-align: right;\n",
       "    }\n",
       "</style>\n",
       "<table border=\"1\" class=\"dataframe\">\n",
       "  <thead>\n",
       "    <tr style=\"text-align: right;\">\n",
       "      <th></th>\n",
       "      <th>cost_range</th>\n",
       "      <th>film_count</th>\n",
       "    </tr>\n",
       "  </thead>\n",
       "  <tbody>\n",
       "    <tr>\n",
       "      <th>0</th>\n",
       "      <td>high</td>\n",
       "      <td>236</td>\n",
       "    </tr>\n",
       "    <tr>\n",
       "      <th>1</th>\n",
       "      <td>low</td>\n",
       "      <td>514</td>\n",
       "    </tr>\n",
       "    <tr>\n",
       "      <th>2</th>\n",
       "      <td>medium</td>\n",
       "      <td>250</td>\n",
       "    </tr>\n",
       "  </tbody>\n",
       "</table>\n",
       "</div>"
      ],
      "text/plain": [
       "  cost_range  film_count\n",
       "0       high         236\n",
       "1        low         514\n",
       "2     medium         250"
      ]
     },
     "metadata": {},
     "output_type": "display_data"
    },
    {
     "data": {
      "image/png": "[encoded data removed]",
      "text/plain": [
       "<Figure size 600x450 with 1 Axes>"
      ]
     },
     "metadata": {},
     "output_type": "display_data"
    }
   ],
   "source": [
    "q2 = \"\"\"\n",
    "SELECT \n",
    "    CASE \n",
    "        WHEN replacement_cost BETWEEN 9.99 AND 19.99 THEN 'low'\n",
    "        WHEN replacement_cost BETWEEN 20 AND 24.99 THEN 'medium'\n",
    "        ELSE 'high'\n",
    "    END as cost_range,\n",
    "    COUNT(*) as film_count\n",
    "FROM film\n",
    "GROUP BY cost_range\n",
    "ORDER BY cost_range;\n",
    "\"\"\"\n",
    "df2 = run_query(q2)\n",
    "print(\"QUERY 2 RESULTS:\")\n",
    "display(df2)\n",
    "\n",
    "#  Distribution of film counts by cost range\n",
    "plt.figure(figsize=(4,3),dpi=150)\n",
    "sns.barplot(data=df2, x='cost_range', y='film_count', hue='cost_range', palette='viridis')\n",
    "plt.title(\"Film Count by Cost Range\")\n",
    "plt.xlabel(\"Cost Range\")\n",
    "plt.ylabel(\"Number of Films\")\n",
    "plt.tight_layout()\n",
    "plt.show()"
   ]
  },
  {
   "cell_type": "markdown",
   "id": "c455de78-f071-46e5-93ad-1a75ffb8c787",
   "metadata": {},
   "source": [
    "**Key Finding**: 514 films in 'low' cost range  \n",
    "**Strategic Value**: Enables data-driven pricing and inventory decisions"
   ]
  }
 ],
 "metadata": {
  "kernelspec": {
   "display_name": "Python 3 (ipykernel)",
   "language": "python",
   "name": "python3"
  },
  "language_info": {
   "codemirror_mode": {
    "name": "ipython",
    "version": 3
   },
   "file_extension": ".py",
   "mimetype": "text/x-python",
   "name": "python",
   "nbconvert_exporter": "python",
   "pygments_lexer": "ipython3",
   "version": "3.13.0"
  }
 },
 "nbformat": 4,
 "nbformat_minor": 5
}
