{
 "cells": [
  {
   "cell_type": "markdown",
   "id": "163a5f12-1b0c-451b-9786-b115fdec4ddf",
   "metadata": {},
   "source": [
    "# DVD Rental Database Advanced SQL Analysis\n",
    "## Comprehensive Analysis of Business-Critical Metrics\n",
    "\n",
    "### Author's Note\n",
    "*This portfolio demonstrates advanced SQL expertise through progressively complex queries addressing real business needs while showcasing technical mastery of SQL concepts.*\n",
    "\n",
    "### Executive Summary\n",
    "This analysis leverages advanced SQL techniques to extract actionable business insights from the DVD rental database. \n",
    "Through 14 carefully crafted queries, we explore everything from basic inventory analysis to complex customer lifetime value \n",
    "calculations, providing a comprehensive view of business operations and opportunities.\n",
    "\n",
    "### Technical Competencies Demonstrated\n",
    "- DISTINCT operations and basic filtering\n",
    "- Advanced CASE statements and conditional logic\n",
    "- Complex JOIN operations (INNER, LEFT, Multiple)\n",
    "- Sophisticated subqueries (Correlated & Uncorrelated)\n",
    "- Advanced aggregation techniques\n",
    "- Date/Time manipulation\n",
    "- String operations and concatenation\n",
    "- Performance optimization patterns\n",
    "\n",
    "### Database Context\n",
    "The analysis utilizes a DVD rental database with interconnected tables including:\n",
    "- films and categories\n",
    "- customer and payment information\n",
    "- rental records\n",
    "- actor and staff details\n",
    "- geographical data (addresses, cities, countries)\n",
    "\n",
    "---\n",
    "###  NOTE: The database connection below uses local credentials. Viewers of this notebook will see the query outputs and charts,  but won't be able to re-run them.\n",
    "---"
   ]
  },
  {
   "cell_type": "code",
   "execution_count": 1,
   "id": "f471d0b5-5c35-4b75-86ce-922d9e724df3",
   "metadata": {},
   "outputs": [
    {
     "name": "stdout",
     "output_type": "stream",
     "text": [
      "Connection to PostgreSQL established successfully using SQLAlchemy.\n",
      "\n"
     ]
    }
   ],
   "source": [
    "import os\n",
    "import pandas as pd\n",
    "import seaborn as sns\n",
    "import matplotlib.pyplot as plt\n",
    "from sqlalchemy import create_engine\n",
    "from dotenv import load_dotenv\n",
    "\n",
    "# Load environment variables from .env\n",
    "load_dotenv()\n",
    "\n",
    "# Configure plotting style\n",
    "sns.set_theme(style=\"whitegrid\")\n",
    "\n",
    "# Fetch credentials from environment\n",
    "db_user = os.getenv(\"PG_USER\")\n",
    "db_password = os.getenv(\"PG_PASSWORD\")\n",
    "db_host = os.getenv(\"PG_HOST\")\n",
    "db_port = os.getenv(\"PG_PORT\")\n",
    "db_name = os.getenv(\"PG_DATABASE\")\n",
    "\n",
    "# Connect to PostgreSQL using SQLAlchemy\n",
    "try:\n",
    "    # Construct the connection URL using environment variables\n",
    "    engine = create_engine(f\"postgresql+psycopg2://{db_user}:{db_password}@{db_host}:{db_port}/{db_name}\")\n",
    "    print(\"Connection to PostgreSQL established successfully using SQLAlchemy.\\n\")\n",
    "except Exception as e:\n",
    "    print(\"Error connecting to database:\", e)\n",
    "\n",
    "# Helper function for query execution\n",
    "def run_query(sql_query):\n",
    "    try:\n",
    "        return pd.read_sql(sql_query, engine)\n",
    "    except Exception as e:\n",
    "        print(\"Error executing query:\", e)\n",
    "        return None"
   ]
  },
  {
   "cell_type": "markdown",
   "id": "5e3952fe-8430-4419-b343-1a827c00c622",
   "metadata": {},
   "source": [
    "\n",
    "#  ─────────────────────────────────────────────\n",
    "# Analysis & Solutions\n",
    "#  ─────────────────────────────────────────────\n"
   ]
  },
  {
   "cell_type": "markdown",
   "id": "7f1a7d17-f3e3-4e30-aca2-f15de8b64a43",
   "metadata": {},
   "source": [
    "# *Query Set 1: Basic Inventory Analysis*\n"
   ]
  },
  {
   "cell_type": "markdown",
   "id": "782bf2d9-c91c-4f30-83d3-149be08afd60",
   "metadata": {},
   "source": [
    "---\n",
    "## Query 1: Replacement Cost Analysis\n",
    "---\n",
    "**Business Need**: Identify all unique replacement costs for inventory valuation."
   ]
  },
  {
   "cell_type": "code",
   "execution_count": 2,
   "id": "a53b0564-e448-4a04-9fdc-3cd058ea76d6",
   "metadata": {},
   "outputs": [
    {
     "name": "stdout",
     "output_type": "stream",
     "text": [
      "QUERY 1 RESULTS (showing first 5 rows):\n"
     ]
    },
    {
     "data": {
      "text/html": [
       "<div>\n",
       "<style scoped>\n",
       "    .dataframe tbody tr th:only-of-type {\n",
       "        vertical-align: middle;\n",
       "    }\n",
       "\n",
       "    .dataframe tbody tr th {\n",
       "        vertical-align: top;\n",
       "    }\n",
       "\n",
       "    .dataframe thead th {\n",
       "        text-align: right;\n",
       "    }\n",
       "</style>\n",
       "<table border=\"1\" class=\"dataframe\">\n",
       "  <thead>\n",
       "    <tr style=\"text-align: right;\">\n",
       "      <th></th>\n",
       "      <th>replacement_cost</th>\n",
       "    </tr>\n",
       "  </thead>\n",
       "  <tbody>\n",
       "    <tr>\n",
       "      <th>0</th>\n",
       "      <td>9.99</td>\n",
       "    </tr>\n",
       "    <tr>\n",
       "      <th>1</th>\n",
       "      <td>10.99</td>\n",
       "    </tr>\n",
       "    <tr>\n",
       "      <th>2</th>\n",
       "      <td>11.99</td>\n",
       "    </tr>\n",
       "    <tr>\n",
       "      <th>3</th>\n",
       "      <td>12.99</td>\n",
       "    </tr>\n",
       "    <tr>\n",
       "      <th>4</th>\n",
       "      <td>13.99</td>\n",
       "    </tr>\n",
       "  </tbody>\n",
       "</table>\n",
       "</div>"
      ],
      "text/plain": [
       "   replacement_cost\n",
       "0              9.99\n",
       "1             10.99\n",
       "2             11.99\n",
       "3             12.99\n",
       "4             13.99"
      ]
     },
     "metadata": {},
     "output_type": "display_data"
    }
   ],
   "source": [
    "q1 = \"\"\"\n",
    "SELECT DISTINCT replacement_cost \n",
    "FROM film\n",
    "ORDER BY 1;\n",
    "\"\"\"\n",
    "df1 = run_query(q1)\n",
    "print(\"QUERY 1 RESULTS (showing first 5 rows):\")\n",
    "display(df1.head(5))"
   ]
  },
  {
   "cell_type": "markdown",
   "id": "478a3bdb-be25-4775-bac3-156b5ab58aa4",
   "metadata": {},
   "source": [
    "**Key Finding**: Minimum replacement cost is $9.99  \n",
    "**Business Impact**: Establishes baseline for inventory investment decisions"
   ]
  },
  {
   "cell_type": "markdown",
   "id": "e34f43d4-3ffb-4b79-acc0-895b8b0308d3",
   "metadata": {},
   "source": [
    "---\n",
    "## Query 2: Cost Range Distribution\n",
    "---\n",
    "**Business Need**: Segment inventory into strategic price bands for management."
   ]
  },
  {
   "cell_type": "code",
   "execution_count": 3,
   "id": "f75f0072-7859-40a4-b7a3-f076779e6015",
   "metadata": {},
   "outputs": [
    {
     "name": "stdout",
     "output_type": "stream",
     "text": [
      "QUERY 2 RESULTS:\n"
     ]
    },
    {
     "data": {
      "text/html": [
       "<div>\n",
       "<style scoped>\n",
       "    .dataframe tbody tr th:only-of-type {\n",
       "        vertical-align: middle;\n",
       "    }\n",
       "\n",
       "    .dataframe tbody tr th {\n",
       "        vertical-align: top;\n",
       "    }\n",
       "\n",
       "    .dataframe thead th {\n",
       "        text-align: right;\n",
       "    }\n",
       "</style>\n",
       "<table border=\"1\" class=\"dataframe\">\n",
       "  <thead>\n",
       "    <tr style=\"text-align: right;\">\n",
       "      <th></th>\n",
       "      <th>cost_range</th>\n",
       "      <th>film_count</th>\n",
       "    </tr>\n",
       "  </thead>\n",
       "  <tbody>\n",
       "    <tr>\n",
       "      <th>0</th>\n",
       "      <td>high</td>\n",
       "      <td>236</td>\n",
       "    </tr>\n",
       "    <tr>\n",
       "      <th>1</th>\n",
       "      <td>low</td>\n",
       "      <td>514</td>\n",
       "    </tr>\n",
       "    <tr>\n",
       "      <th>2</th>\n",
       "      <td>medium</td>\n",
       "      <td>250</td>\n",
       "    </tr>\n",
       "  </tbody>\n",
       "</table>\n",
       "</div>"
      ],
      "text/plain": [
       "  cost_range  film_count\n",
       "0       high         236\n",
       "1        low         514\n",
       "2     medium         250"
      ]
     },
     "metadata": {},
     "output_type": "display_data"
    },
    {
     "data": {
      "image/png": "[encoded data removed]",
      "text/plain": [
       "<Figure size 600x450 with 1 Axes>"
      ]
     },
     "metadata": {},
     "output_type": "display_data"
    }
   ],
   "source": [
    "q2 = \"\"\"\n",
    "SELECT \n",
    "    CASE \n",
    "        WHEN replacement_cost BETWEEN 9.99 AND 19.99 THEN 'low'\n",
    "        WHEN replacement_cost BETWEEN 20 AND 24.99 THEN 'medium'\n",
    "        ELSE 'high'\n",
    "    END as cost_range,\n",
    "    COUNT(*) as film_count\n",
    "FROM film\n",
    "GROUP BY cost_range\n",
    "ORDER BY cost_range;\n",
    "\"\"\"\n",
    "df2 = run_query(q2)\n",
    "print(\"QUERY 2 RESULTS:\")\n",
    "display(df2)\n",
    "\n",
    "#  Distribution of film counts by cost range\n",
    "plt.figure(figsize=(4,3),dpi=150)\n",
    "sns.barplot(data=df2, x='cost_range', y='film_count', hue='cost_range', palette='viridis')\n",
    "plt.title(\"Film Count by Cost Range\")\n",
    "plt.xlabel(\"Cost Range\")\n",
    "plt.ylabel(\"Number of Films\")\n",
    "plt.tight_layout()\n",
    "plt.show()"
   ]
  },
  {
   "cell_type": "markdown",
   "id": "c455de78-f071-46e5-93ad-1a75ffb8c787",
   "metadata": {},
   "source": [
    "**Key Finding**: 514 films in 'low' cost range  \n",
    "**Strategic Value**: Enables data-driven pricing and inventory decisions"
   ]
  },
  {
   "cell_type": "markdown",
   "id": "14960873-2d37-4038-a866-5220c0fed689",
   "metadata": {},
   "source": [
    "#  *Query Set 2: Content Analysis*\n",
    "---\n",
    "## QUERY 3: Genre-Specific Length Analysis\n",
    "---\n",
    "**Business Need**: Analyze content duration patterns within key genres."
   ]
  },
  {
   "cell_type": "code",
   "execution_count": 4,
   "id": "364d1f97-7900-4435-8899-853d78fa2020",
   "metadata": {},
   "outputs": [
    {
     "name": "stdout",
     "output_type": "stream",
     "text": [
      "QUERY 3 RESULTS (top 5 rows):\n"
     ]
    },
    {
     "data": {
      "text/html": [
       "<div>\n",
       "<style scoped>\n",
       "    .dataframe tbody tr th:only-of-type {\n",
       "        vertical-align: middle;\n",
       "    }\n",
       "\n",
       "    .dataframe tbody tr th {\n",
       "        vertical-align: top;\n",
       "    }\n",
       "\n",
       "    .dataframe thead th {\n",
       "        text-align: right;\n",
       "    }\n",
       "</style>\n",
       "<table border=\"1\" class=\"dataframe\">\n",
       "  <thead>\n",
       "    <tr style=\"text-align: right;\">\n",
       "      <th></th>\n",
       "      <th>title</th>\n",
       "      <th>name</th>\n",
       "      <th>length</th>\n",
       "    </tr>\n",
       "  </thead>\n",
       "  <tbody>\n",
       "    <tr>\n",
       "      <th>0</th>\n",
       "      <td>SMOOCHY CONTROL</td>\n",
       "      <td>Sports</td>\n",
       "      <td>184</td>\n",
       "    </tr>\n",
       "    <tr>\n",
       "      <th>1</th>\n",
       "      <td>RECORDS ZORRO</td>\n",
       "      <td>Sports</td>\n",
       "      <td>182</td>\n",
       "    </tr>\n",
       "    <tr>\n",
       "      <th>2</th>\n",
       "      <td>STAR OPERATION</td>\n",
       "      <td>Sports</td>\n",
       "      <td>181</td>\n",
       "    </tr>\n",
       "    <tr>\n",
       "      <th>3</th>\n",
       "      <td>JACKET FRISCO</td>\n",
       "      <td>Drama</td>\n",
       "      <td>181</td>\n",
       "    </tr>\n",
       "    <tr>\n",
       "      <th>4</th>\n",
       "      <td>SOMETHING DUCK</td>\n",
       "      <td>Drama</td>\n",
       "      <td>180</td>\n",
       "    </tr>\n",
       "  </tbody>\n",
       "</table>\n",
       "</div>"
      ],
      "text/plain": [
       "             title    name  length\n",
       "0  SMOOCHY CONTROL  Sports     184\n",
       "1    RECORDS ZORRO  Sports     182\n",
       "2   STAR OPERATION  Sports     181\n",
       "3    JACKET FRISCO   Drama     181\n",
       "4   SOMETHING DUCK   Drama     180"
      ]
     },
     "metadata": {},
     "output_type": "display_data"
    }
   ],
   "source": [
    "q3 = \"\"\"\n",
    "SELECT \n",
    "    title, \n",
    "    c.name, \n",
    "    f.length\n",
    "FROM film f\n",
    "LEFT JOIN film_category fc ON f.film_id = fc.film_id\n",
    "LEFT JOIN category c ON c.category_id = fc.category_id\n",
    "WHERE c.name IN ('Sports', 'Drama')\n",
    "ORDER BY f.length DESC;\n",
    "\"\"\"\n",
    "df3 = run_query(q3)\n",
    "print(\"QUERY 3 RESULTS (top 5 rows):\")\n",
    "display(df3.head(5))"
   ]
  },
  {
   "cell_type": "markdown",
   "id": "784dbb16-bde8-443a-a88c-1e50db69b81d",
   "metadata": {},
   "source": [
    "**Key Finding**: Longest film is in Sports category (184 minutes)  \n",
    "**Programming Impact**: Optimizes scheduling and content planning"
   ]
  },
  {
   "cell_type": "markdown",
   "id": "f48ecdcc-97b4-4ae1-8c7f-645fa7d44e2d",
   "metadata": {},
   "source": [
    "---\n",
    "## Query 4: Category Distribution\n",
    "---\n",
    "**Business Need**: Understand content distribution across categories."
   ]
  },
  {
   "cell_type": "code",
   "execution_count": 5,
   "id": "0a3be467-5fdf-48ec-acac-c8b7a566edcf",
   "metadata": {},
   "outputs": [
    {
     "name": "stdout",
     "output_type": "stream",
     "text": [
      "QUERY 4 RESULTS:\n"
     ]
    },
    {
     "data": {
      "text/html": [
       "<div>\n",
       "<style scoped>\n",
       "    .dataframe tbody tr th:only-of-type {\n",
       "        vertical-align: middle;\n",
       "    }\n",
       "\n",
       "    .dataframe tbody tr th {\n",
       "        vertical-align: top;\n",
       "    }\n",
       "\n",
       "    .dataframe thead th {\n",
       "        text-align: right;\n",
       "    }\n",
       "</style>\n",
       "<table border=\"1\" class=\"dataframe\">\n",
       "  <thead>\n",
       "    <tr style=\"text-align: right;\">\n",
       "      <th></th>\n",
       "      <th>name</th>\n",
       "      <th>film_count</th>\n",
       "    </tr>\n",
       "  </thead>\n",
       "  <tbody>\n",
       "    <tr>\n",
       "      <th>0</th>\n",
       "      <td>Sports</td>\n",
       "      <td>74</td>\n",
       "    </tr>\n",
       "    <tr>\n",
       "      <th>1</th>\n",
       "      <td>Foreign</td>\n",
       "      <td>73</td>\n",
       "    </tr>\n",
       "    <tr>\n",
       "      <th>2</th>\n",
       "      <td>Family</td>\n",
       "      <td>69</td>\n",
       "    </tr>\n",
       "    <tr>\n",
       "      <th>3</th>\n",
       "      <td>Documentary</td>\n",
       "      <td>68</td>\n",
       "    </tr>\n",
       "    <tr>\n",
       "      <th>4</th>\n",
       "      <td>Animation</td>\n",
       "      <td>66</td>\n",
       "    </tr>\n",
       "    <tr>\n",
       "      <th>5</th>\n",
       "      <td>Action</td>\n",
       "      <td>64</td>\n",
       "    </tr>\n",
       "    <tr>\n",
       "      <th>6</th>\n",
       "      <td>New</td>\n",
       "      <td>63</td>\n",
       "    </tr>\n",
       "    <tr>\n",
       "      <th>7</th>\n",
       "      <td>Drama</td>\n",
       "      <td>62</td>\n",
       "    </tr>\n",
       "    <tr>\n",
       "      <th>8</th>\n",
       "      <td>Sci-Fi</td>\n",
       "      <td>61</td>\n",
       "    </tr>\n",
       "    <tr>\n",
       "      <th>9</th>\n",
       "      <td>Games</td>\n",
       "      <td>61</td>\n",
       "    </tr>\n",
       "    <tr>\n",
       "      <th>10</th>\n",
       "      <td>Children</td>\n",
       "      <td>60</td>\n",
       "    </tr>\n",
       "    <tr>\n",
       "      <th>11</th>\n",
       "      <td>Comedy</td>\n",
       "      <td>58</td>\n",
       "    </tr>\n",
       "    <tr>\n",
       "      <th>12</th>\n",
       "      <td>Travel</td>\n",
       "      <td>57</td>\n",
       "    </tr>\n",
       "    <tr>\n",
       "      <th>13</th>\n",
       "      <td>Classics</td>\n",
       "      <td>57</td>\n",
       "    </tr>\n",
       "    <tr>\n",
       "      <th>14</th>\n",
       "      <td>Horror</td>\n",
       "      <td>56</td>\n",
       "    </tr>\n",
       "    <tr>\n",
       "      <th>15</th>\n",
       "      <td>Music</td>\n",
       "      <td>51</td>\n",
       "    </tr>\n",
       "  </tbody>\n",
       "</table>\n",
       "</div>"
      ],
      "text/plain": [
       "           name  film_count\n",
       "0        Sports          74\n",
       "1       Foreign          73\n",
       "2        Family          69\n",
       "3   Documentary          68\n",
       "4     Animation          66\n",
       "5        Action          64\n",
       "6           New          63\n",
       "7         Drama          62\n",
       "8        Sci-Fi          61\n",
       "9         Games          61\n",
       "10     Children          60\n",
       "11       Comedy          58\n",
       "12       Travel          57\n",
       "13     Classics          57\n",
       "14       Horror          56\n",
       "15        Music          51"
      ]
     },
     "metadata": {},
     "output_type": "display_data"
    },
    {
     "data": {
      "image/png": "[encoded data removed]",
      "text/plain": [
       "<Figure size 900x600 with 1 Axes>"
      ]
     },
     "metadata": {},
     "output_type": "display_data"
    }
   ],
   "source": [
    "q4 = \"\"\"\n",
    "SELECT \n",
    "    c.name, \n",
    "    COUNT(f.title) as film_count\n",
    "FROM film f\n",
    "INNER JOIN film_category fc ON f.film_id = fc.film_id\n",
    "INNER JOIN category c ON c.category_id = fc.category_id\n",
    "GROUP BY c.name\n",
    "ORDER BY film_count DESC;\n",
    "\"\"\"\n",
    "df4 = run_query(q4)\n",
    "print(\"QUERY 4 RESULTS:\")\n",
    "display(df4)\n",
    "\n",
    "# Visualization: Category distribution\n",
    "plt.figure(figsize=(6,4), dpi=150)\n",
    "sns.barplot(data=df4, x='film_count', y='name', hue='film_count', palette='coolwarm')\n",
    "plt.title(\"Number of Films per Category\")\n",
    "plt.xlabel(\"Film Count\")\n",
    "plt.ylabel(\"Category\")\n",
    "plt.tight_layout()\n",
    "plt.show()"
   ]
  },
  {
   "cell_type": "markdown",
   "id": "e659ba20-cb2a-45e8-bfbb-c1fb06bddb4c",
   "metadata": {},
   "source": [
    "**Key Finding**: Sports category leads with 74 titles  \n",
    "**Strategic Value**: Guides content acquisition strategy"
   ]
  },
  {
   "cell_type": "markdown",
   "id": "2950f0b3-ca6e-4380-b2df-ec3886c1cff0",
   "metadata": {},
   "source": [
    "#  *Query Set 3: Performance Metrics*\n",
    "---\n",
    "## Query 5: Actor Participation Analysis\n",
    "---\n",
    "**Business Need**: Identify most featured actors for marketing efforts."
   ]
  },
  {
   "cell_type": "code",
   "execution_count": 6,
   "id": "9b08529d-8e24-479b-a335-9d7bd6d86347",
   "metadata": {},
   "outputs": [
    {
     "name": "stdout",
     "output_type": "stream",
     "text": [
      "QUERY 5 RESULTS (top 5 rows):\n"
     ]
    },
    {
     "data": {
      "text/html": [
       "<div>\n",
       "<style scoped>\n",
       "    .dataframe tbody tr th:only-of-type {\n",
       "        vertical-align: middle;\n",
       "    }\n",
       "\n",
       "    .dataframe tbody tr th {\n",
       "        vertical-align: top;\n",
       "    }\n",
       "\n",
       "    .dataframe thead th {\n",
       "        text-align: right;\n",
       "    }\n",
       "</style>\n",
       "<table border=\"1\" class=\"dataframe\">\n",
       "  <thead>\n",
       "    <tr style=\"text-align: right;\">\n",
       "      <th></th>\n",
       "      <th>first_name</th>\n",
       "      <th>last_name</th>\n",
       "      <th>film_count</th>\n",
       "    </tr>\n",
       "  </thead>\n",
       "  <tbody>\n",
       "    <tr>\n",
       "      <th>0</th>\n",
       "      <td>SUSAN</td>\n",
       "      <td>DAVIS</td>\n",
       "      <td>54</td>\n",
       "    </tr>\n",
       "    <tr>\n",
       "      <th>1</th>\n",
       "      <td>GINA</td>\n",
       "      <td>DEGENERES</td>\n",
       "      <td>42</td>\n",
       "    </tr>\n",
       "    <tr>\n",
       "      <th>2</th>\n",
       "      <td>WALTER</td>\n",
       "      <td>TORN</td>\n",
       "      <td>41</td>\n",
       "    </tr>\n",
       "    <tr>\n",
       "      <th>3</th>\n",
       "      <td>MARY</td>\n",
       "      <td>KEITEL</td>\n",
       "      <td>40</td>\n",
       "    </tr>\n",
       "    <tr>\n",
       "      <th>4</th>\n",
       "      <td>MATTHEW</td>\n",
       "      <td>CARREY</td>\n",
       "      <td>39</td>\n",
       "    </tr>\n",
       "  </tbody>\n",
       "</table>\n",
       "</div>"
      ],
      "text/plain": [
       "  first_name  last_name  film_count\n",
       "0      SUSAN      DAVIS          54\n",
       "1       GINA  DEGENERES          42\n",
       "2     WALTER       TORN          41\n",
       "3       MARY     KEITEL          40\n",
       "4    MATTHEW     CARREY          39"
      ]
     },
     "metadata": {},
     "output_type": "display_data"
    }
   ],
   "source": [
    "q5 = \"\"\"\n",
    "SELECT \n",
    "    a.first_name, \n",
    "    a.last_name, \n",
    "    COUNT(*) as film_count\n",
    "FROM actor a\n",
    "LEFT JOIN film_actor fa ON fa.actor_id = a.actor_id\n",
    "LEFT JOIN film f ON fa.film_id = f.film_id\n",
    "GROUP BY a.first_name, a.last_name\n",
    "ORDER BY film_count DESC;\n",
    "\"\"\"\n",
    "df5 = run_query(q5)\n",
    "print(\"QUERY 5 RESULTS (top 5 rows):\")\n",
    "display(df5.head(5))"
   ]
  },
  {
   "cell_type": "markdown",
   "id": "5d1c9a1d-777f-4cb1-b34d-0bf8741a64b1",
   "metadata": {},
   "source": [
    "**Key Finding**: Susan Davis appears in 54 movies  \n",
    "**Marketing Impact**: Informs talent-based promotional strategies"
   ]
  },
  {
   "cell_type": "markdown",
   "id": "4d0036fa-6960-47ac-89a5-0713536d5064",
   "metadata": {},
   "source": [
    "---\n",
    "## Query 6: Address Utilization\n",
    "---\n",
    "**Business Need**: Identify unused address inventory."
   ]
  },
  {
   "cell_type": "code",
   "execution_count": 7,
   "id": "2807ed8e-b400-4bca-a0f6-2ecaa1bf819a",
   "metadata": {},
   "outputs": [
    {
     "name": "stdout",
     "output_type": "stream",
     "text": [
      "QUERY 6 RESULTS (all rows):\n"
     ]
    },
    {
     "data": {
      "text/html": [
       "<div>\n",
       "<style scoped>\n",
       "    .dataframe tbody tr th:only-of-type {\n",
       "        vertical-align: middle;\n",
       "    }\n",
       "\n",
       "    .dataframe tbody tr th {\n",
       "        vertical-align: top;\n",
       "    }\n",
       "\n",
       "    .dataframe thead th {\n",
       "        text-align: right;\n",
       "    }\n",
       "</style>\n",
       "<table border=\"1\" class=\"dataframe\">\n",
       "  <thead>\n",
       "    <tr style=\"text-align: right;\">\n",
       "      <th></th>\n",
       "      <th>address_id</th>\n",
       "      <th>address</th>\n",
       "      <th>address2</th>\n",
       "      <th>district</th>\n",
       "      <th>postal_code</th>\n",
       "      <th>phone</th>\n",
       "    </tr>\n",
       "  </thead>\n",
       "  <tbody>\n",
       "    <tr>\n",
       "      <th>0</th>\n",
       "      <td>2</td>\n",
       "      <td>28 MySQL Boulevard</td>\n",
       "      <td>None</td>\n",
       "      <td>QLD</td>\n",
       "      <td></td>\n",
       "      <td></td>\n",
       "    </tr>\n",
       "    <tr>\n",
       "      <th>1</th>\n",
       "      <td>4</td>\n",
       "      <td>1411 Lillydale Drive</td>\n",
       "      <td>None</td>\n",
       "      <td>QLD</td>\n",
       "      <td></td>\n",
       "      <td>6172235589</td>\n",
       "    </tr>\n",
       "    <tr>\n",
       "      <th>2</th>\n",
       "      <td>1</td>\n",
       "      <td>47 MySakila Drive</td>\n",
       "      <td>None</td>\n",
       "      <td>Alberta</td>\n",
       "      <td></td>\n",
       "      <td></td>\n",
       "    </tr>\n",
       "    <tr>\n",
       "      <th>3</th>\n",
       "      <td>3</td>\n",
       "      <td>23 Workhaven Lane</td>\n",
       "      <td>None</td>\n",
       "      <td>Alberta</td>\n",
       "      <td></td>\n",
       "      <td>14033335568</td>\n",
       "    </tr>\n",
       "  </tbody>\n",
       "</table>\n",
       "</div>"
      ],
      "text/plain": [
       "   address_id               address address2 district postal_code        phone\n",
       "0           2    28 MySQL Boulevard     None      QLD                         \n",
       "1           4  1411 Lillydale Drive     None      QLD               6172235589\n",
       "2           1     47 MySakila Drive     None  Alberta                         \n",
       "3           3     23 Workhaven Lane     None  Alberta              14033335568"
      ]
     },
     "metadata": {},
     "output_type": "display_data"
    }
   ],
   "source": [
    "q6 = \"\"\"\n",
    "SELECT a.address_id, a.address, a.address2, a.district, a.postal_code, a.phone\n",
    "FROM address a\n",
    "LEFT JOIN customer c ON c.address_id = a.address_id\n",
    "WHERE c.first_name IS NULL;\n",
    "\"\"\"\n",
    "df6 = run_query(q6)\n",
    "print(\"QUERY 6 RESULTS (all rows):\")\n",
    "display(df6)"
   ]
  },
  {
   "cell_type": "markdown",
   "id": "1f71def7-5b28-4273-bc73-358c3226e06c",
   "metadata": {},
   "source": [
    "**Key Finding**: 4 addresses without associated customers  \n",
    "**Operational Impact**: Identifies database optimization opportunities"
   ]
  },
  {
   "cell_type": "markdown",
   "id": "a6203bc9-f8b5-4035-9e3f-beeae847e3fc",
   "metadata": {},
   "source": [
    "#  *Query Set 4: Geographical Analysis*\n",
    "---\n",
    "## Query 7: City-Based Sales Performance\n",
    "---\n",
    "**Business Need**: Identify highest-performing cities."
   ]
  },
  {
   "cell_type": "code",
   "execution_count": 8,
   "id": "ac745b6c-a8a4-416e-8a30-29cf76bc29e9",
   "metadata": {},
   "outputs": [
    {
     "name": "stdout",
     "output_type": "stream",
     "text": [
      "QUERY 7 RESULTS (top 10 rows):\n"
     ]
    },
    {
     "data": {
      "text/html": [
       "<div>\n",
       "<style scoped>\n",
       "    .dataframe tbody tr th:only-of-type {\n",
       "        vertical-align: middle;\n",
       "    }\n",
       "\n",
       "    .dataframe tbody tr th {\n",
       "        vertical-align: top;\n",
       "    }\n",
       "\n",
       "    .dataframe thead th {\n",
       "        text-align: right;\n",
       "    }\n",
       "</style>\n",
       "<table border=\"1\" class=\"dataframe\">\n",
       "  <thead>\n",
       "    <tr style=\"text-align: right;\">\n",
       "      <th></th>\n",
       "      <th>city</th>\n",
       "      <th>total_sales</th>\n",
       "    </tr>\n",
       "  </thead>\n",
       "  <tbody>\n",
       "    <tr>\n",
       "      <th>0</th>\n",
       "      <td>Cape Coral</td>\n",
       "      <td>221.55</td>\n",
       "    </tr>\n",
       "    <tr>\n",
       "      <th>1</th>\n",
       "      <td>Saint-Denis</td>\n",
       "      <td>216.54</td>\n",
       "    </tr>\n",
       "    <tr>\n",
       "      <th>2</th>\n",
       "      <td>Aurora</td>\n",
       "      <td>198.50</td>\n",
       "    </tr>\n",
       "    <tr>\n",
       "      <th>3</th>\n",
       "      <td>Molodetno</td>\n",
       "      <td>195.58</td>\n",
       "    </tr>\n",
       "    <tr>\n",
       "      <th>4</th>\n",
       "      <td>Apeldoorn</td>\n",
       "      <td>194.61</td>\n",
       "    </tr>\n",
       "    <tr>\n",
       "      <th>5</th>\n",
       "      <td>Santa Brbara dOeste</td>\n",
       "      <td>194.61</td>\n",
       "    </tr>\n",
       "    <tr>\n",
       "      <th>6</th>\n",
       "      <td>Qomsheh</td>\n",
       "      <td>186.62</td>\n",
       "    </tr>\n",
       "    <tr>\n",
       "      <th>7</th>\n",
       "      <td>London</td>\n",
       "      <td>180.52</td>\n",
       "    </tr>\n",
       "    <tr>\n",
       "      <th>8</th>\n",
       "      <td>Ourense (Orense)</td>\n",
       "      <td>177.60</td>\n",
       "    </tr>\n",
       "    <tr>\n",
       "      <th>9</th>\n",
       "      <td>Bijapur</td>\n",
       "      <td>175.61</td>\n",
       "    </tr>\n",
       "  </tbody>\n",
       "</table>\n",
       "</div>"
      ],
      "text/plain": [
       "                  city  total_sales\n",
       "0           Cape Coral       221.55\n",
       "1          Saint-Denis       216.54\n",
       "2               Aurora       198.50\n",
       "3            Molodetno       195.58\n",
       "4            Apeldoorn       194.61\n",
       "5  Santa Brbara dOeste       194.61\n",
       "6              Qomsheh       186.62\n",
       "7               London       180.52\n",
       "8     Ourense (Orense)       177.60\n",
       "9              Bijapur       175.61"
      ]
     },
     "metadata": {},
     "output_type": "display_data"
    },
    {
     "data": {
      "image/png": "[encoded data removed]",
      "text/plain": [
       "<Figure size 750x600 with 1 Axes>"
      ]
     },
     "metadata": {},
     "output_type": "display_data"
    }
   ],
   "source": [
    "q7 = \"\"\"\n",
    "SELECT\n",
    "    ci.city,\n",
    "    SUM(p.amount) as total_sales\n",
    "FROM payment p\n",
    "LEFT JOIN customer c ON p.customer_id = c.customer_id\n",
    "LEFT JOIN address a ON a.address_id = c.address_id\n",
    "LEFT JOIN city ci ON ci.city_id = a.city_id\n",
    "GROUP BY ci.city\n",
    "ORDER BY total_sales DESC;\n",
    "\"\"\"\n",
    "df7 = run_query(q7)\n",
    "print(\"QUERY 7 RESULTS (top 10 rows):\")\n",
    "display(df7.head(10))\n",
    "\n",
    "# Visualization: Top 10 cities by total sales\n",
    "plt.figure(figsize=(5,4),dpi=150)\n",
    "sns.barplot(data=df7.head(10), x='total_sales', y='city', hue='total_sales', palette='rocket')\n",
    "plt.title(\"Top 10 Cities by Total Sales\")\n",
    "plt.xlabel(\"Total Sales ($)\")\n",
    "plt.ylabel(\"City\")\n",
    "plt.tight_layout()\n",
    "plt.show()"
   ]
  },
  {
   "cell_type": "markdown",
   "id": "2a7ab1bd-290e-4245-a757-369301ebd7ac",
   "metadata": {},
   "source": [
    "**Key Finding**: Cape Coral leads with $221.55 in sales  \n",
    "**Strategic Value**: Guides geographical expansion"
   ]
  },
  {
   "cell_type": "markdown",
   "id": "b4016b9d-d583-4ab8-91b6-35d3e14b1d14",
   "metadata": {},
   "source": [
    "---\n",
    "## Query 8: Country-City Revenue Analysis\n",
    "---\n",
    "**Business Need**: Analyze revenue patterns by location."
   ]
  },
  {
   "cell_type": "code",
   "execution_count": 9,
   "id": "669604f1-f003-4c2a-b606-69565b5454cf",
   "metadata": {},
   "outputs": [
    {
     "name": "stdout",
     "output_type": "stream",
     "text": [
      "QUERY 8 RESULTS (bottom 5 rows):\n"
     ]
    },
    {
     "data": {
      "text/html": [
       "<div>\n",
       "<style scoped>\n",
       "    .dataframe tbody tr th:only-of-type {\n",
       "        vertical-align: middle;\n",
       "    }\n",
       "\n",
       "    .dataframe tbody tr th {\n",
       "        vertical-align: top;\n",
       "    }\n",
       "\n",
       "    .dataframe thead th {\n",
       "        text-align: right;\n",
       "    }\n",
       "</style>\n",
       "<table border=\"1\" class=\"dataframe\">\n",
       "  <thead>\n",
       "    <tr style=\"text-align: right;\">\n",
       "      <th></th>\n",
       "      <th>country_city</th>\n",
       "      <th>total_sales</th>\n",
       "    </tr>\n",
       "  </thead>\n",
       "  <tbody>\n",
       "    <tr>\n",
       "      <th>0</th>\n",
       "      <td>United States, Tallahassee</td>\n",
       "      <td>50.85</td>\n",
       "    </tr>\n",
       "    <tr>\n",
       "      <th>1</th>\n",
       "      <td>China, Fuzhou</td>\n",
       "      <td>50.86</td>\n",
       "    </tr>\n",
       "    <tr>\n",
       "      <th>2</th>\n",
       "      <td>Poland, Bydgoszcz</td>\n",
       "      <td>52.88</td>\n",
       "    </tr>\n",
       "    <tr>\n",
       "      <th>3</th>\n",
       "      <td>Sudan, al-Qadarif</td>\n",
       "      <td>57.81</td>\n",
       "    </tr>\n",
       "    <tr>\n",
       "      <th>4</th>\n",
       "      <td>Mozambique, Tete</td>\n",
       "      <td>58.82</td>\n",
       "    </tr>\n",
       "  </tbody>\n",
       "</table>\n",
       "</div>"
      ],
      "text/plain": [
       "                 country_city  total_sales\n",
       "0  United States, Tallahassee        50.85\n",
       "1               China, Fuzhou        50.86\n",
       "2           Poland, Bydgoszcz        52.88\n",
       "3           Sudan, al-Qadarif        57.81\n",
       "4            Mozambique, Tete        58.82"
      ]
     },
     "metadata": {},
     "output_type": "display_data"
    }
   ],
   "source": [
    "q8 = \"\"\"\n",
    "SELECT\n",
    "    (co.country || ', ' || ci.city) as country_city,\n",
    "    SUM(p.amount) as total_sales\n",
    "FROM payment p\n",
    "LEFT JOIN customer c ON p.customer_id = c.customer_id\n",
    "LEFT JOIN address a ON a.address_id = c.address_id\n",
    "LEFT JOIN city ci ON ci.city_id = a.city_id\n",
    "LEFT JOIN country co ON co.country_id = ci.country_id\n",
    "GROUP BY co.country, ci.city\n",
    "ORDER BY total_sales ASC;\n",
    "\"\"\"\n",
    "df8 = run_query(q8)\n",
    "print(\"QUERY 8 RESULTS (bottom 5 rows):\")\n",
    "display(df8.head(5))"
   ]
  },
  {
   "cell_type": "markdown",
   "id": "1c671a12-54ab-4f46-97f3-c0c5b496b859",
   "metadata": {},
   "source": [
    "**Key Finding**: United States, Tallahassee shows lowest revenue ($50.85)  \n",
    "**Business Impact**: Identifies markets needing attention"
   ]
  },
  {
   "cell_type": "markdown",
   "id": "95f45fbe-f2e6-43e2-bf88-a5bc39987cc4",
   "metadata": {},
   "source": [
    "#  *Query Set 5: Advanced Performance Metrics*\n",
    "---\n",
    "## Query 9: Staff Performance Analysis\n",
    "---\n",
    "**Business Need**: Evaluate staff efficiency through customer revenue."
   ]
  },
  {
   "cell_type": "code",
   "execution_count": 10,
   "id": "fa179284-7b9e-4312-bcdb-2070917611d1",
   "metadata": {},
   "outputs": [
    {
     "name": "stdout",
     "output_type": "stream",
     "text": [
      "QUERY 9 RESULTS:\n"
     ]
    },
    {
     "data": {
      "text/html": [
       "<div>\n",
       "<style scoped>\n",
       "    .dataframe tbody tr th:only-of-type {\n",
       "        vertical-align: middle;\n",
       "    }\n",
       "\n",
       "    .dataframe tbody tr th {\n",
       "        vertical-align: top;\n",
       "    }\n",
       "\n",
       "    .dataframe thead th {\n",
       "        text-align: right;\n",
       "    }\n",
       "</style>\n",
       "<table border=\"1\" class=\"dataframe\">\n",
       "  <thead>\n",
       "    <tr style=\"text-align: right;\">\n",
       "      <th></th>\n",
       "      <th>staff_id</th>\n",
       "      <th>avg_amount</th>\n",
       "    </tr>\n",
       "  </thead>\n",
       "  <tbody>\n",
       "    <tr>\n",
       "      <th>0</th>\n",
       "      <td>2</td>\n",
       "      <td>56.63</td>\n",
       "    </tr>\n",
       "    <tr>\n",
       "      <th>1</th>\n",
       "      <td>1</td>\n",
       "      <td>55.91</td>\n",
       "    </tr>\n",
       "  </tbody>\n",
       "</table>\n",
       "</div>"
      ],
      "text/plain": [
       "   staff_id  avg_amount\n",
       "0         2       56.63\n",
       "1         1       55.91"
      ]
     },
     "metadata": {},
     "output_type": "display_data"
    }
   ],
   "source": [
    "q9 = \"\"\"\n",
    "SELECT \n",
    "    staff_id,\n",
    "    ROUND(AVG(total), 2) as avg_amount\n",
    "FROM (\n",
    "    SELECT staff_id, customer_id, SUM(amount) as total\n",
    "    FROM payment\n",
    "    GROUP BY staff_id, customer_id\n",
    ") sub\n",
    "GROUP BY staff_id;\n",
    "\"\"\"\n",
    "df9 = run_query(q9)\n",
    "print(\"QUERY 9 RESULTS:\")\n",
    "display(df9)"
   ]
  },
  {
   "cell_type": "markdown",
   "id": "f8a276ed-0795-45ba-b3e0-ba96ff44e7aa",
   "metadata": {},
   "source": [
    "**Key Finding**: Staff ID 2 averages $56.63 per customer  \n",
    "**Management Impact**: Informs staff training and incentives"
   ]
  },
  {
   "cell_type": "markdown",
   "id": "541551d8-b17d-4ed6-9b78-7e304c760001",
   "metadata": {},
   "source": [
    "---\n",
    "## Query 10: Sunday Revenue Analysis\n",
    "---\n",
    "**Business Need**: Understand weekend performance patterns."
   ]
  },
  {
   "cell_type": "code",
   "execution_count": 11,
   "id": "788359f5-0581-4aca-8257-7b83ea7a0d90",
   "metadata": {},
   "outputs": [
    {
     "name": "stdout",
     "output_type": "stream",
     "text": [
      "QUERY 10 RESULTS:\n"
     ]
    },
    {
     "data": {
      "text/html": [
       "<div>\n",
       "<style scoped>\n",
       "    .dataframe tbody tr th:only-of-type {\n",
       "        vertical-align: middle;\n",
       "    }\n",
       "\n",
       "    .dataframe tbody tr th {\n",
       "        vertical-align: top;\n",
       "    }\n",
       "\n",
       "    .dataframe thead th {\n",
       "        text-align: right;\n",
       "    }\n",
       "</style>\n",
       "<table border=\"1\" class=\"dataframe\">\n",
       "  <thead>\n",
       "    <tr style=\"text-align: right;\">\n",
       "      <th></th>\n",
       "      <th>avg_sunday_revenue</th>\n",
       "    </tr>\n",
       "  </thead>\n",
       "  <tbody>\n",
       "    <tr>\n",
       "      <th>0</th>\n",
       "      <td>1423.05</td>\n",
       "    </tr>\n",
       "  </tbody>\n",
       "</table>\n",
       "</div>"
      ],
      "text/plain": [
       "   avg_sunday_revenue\n",
       "0             1423.05"
      ]
     },
     "metadata": {},
     "output_type": "display_data"
    }
   ],
   "source": [
    "q10 = \"\"\"\n",
    "SELECT \n",
    "    ROUND(AVG(daily.total), 2) as avg_sunday_revenue\n",
    "FROM (\n",
    "    SELECT \n",
    "        DATE(payment_date) as payment_day,\n",
    "        EXTRACT(dow FROM payment_date) as weekday,\n",
    "        SUM(amount) as total\n",
    "    FROM payment\n",
    "    WHERE EXTRACT(dow FROM payment_date) = 0\n",
    "    GROUP BY DATE(payment_date), weekday\n",
    ") daily;\n",
    "\"\"\"\n",
    "df10 = run_query(q10)\n",
    "print(\"QUERY 10 RESULTS:\")\n",
    "display(df10)"
   ]
  },
  {
   "cell_type": "markdown",
   "id": "d8a908f1-9c43-4e24-b1c8-6fd6b94e2be0",
   "metadata": {},
   "source": [
    "**Key Finding**: Average Sunday revenue is $1,423.05  \n",
    "**Operational Impact**: Optimizes staffing and promotions"
   ]
  },
  {
   "cell_type": "markdown",
   "id": "6005dc65-ec48-41ef-9248-7e4478445b0d",
   "metadata": {},
   "source": [
    "# *Query Set 6: Complex Analysis*\n",
    "---\n",
    "## Query 11: Length-Based Film Analysis\n",
    "---\n",
    "**Business Need**: Identify films exceeding category length averages."
   ]
  },
  {
   "cell_type": "code",
   "execution_count": 12,
   "id": "5c433c18-a900-40da-8011-14c318dab582",
   "metadata": {},
   "outputs": [
    {
     "name": "stdout",
     "output_type": "stream",
     "text": [
      "QUERY 11 RESULTS (top 5 rows):\n"
     ]
    },
    {
     "data": {
      "text/html": [
       "<div>\n",
       "<style scoped>\n",
       "    .dataframe tbody tr th:only-of-type {\n",
       "        vertical-align: middle;\n",
       "    }\n",
       "\n",
       "    .dataframe tbody tr th {\n",
       "        vertical-align: top;\n",
       "    }\n",
       "\n",
       "    .dataframe thead th {\n",
       "        text-align: right;\n",
       "    }\n",
       "</style>\n",
       "<table border=\"1\" class=\"dataframe\">\n",
       "  <thead>\n",
       "    <tr style=\"text-align: right;\">\n",
       "      <th></th>\n",
       "      <th>title</th>\n",
       "      <th>length</th>\n",
       "    </tr>\n",
       "  </thead>\n",
       "  <tbody>\n",
       "    <tr>\n",
       "      <th>0</th>\n",
       "      <td>CELEBRITY HORN</td>\n",
       "      <td>110</td>\n",
       "    </tr>\n",
       "    <tr>\n",
       "      <th>1</th>\n",
       "      <td>SEATTLE EXPECATIONS</td>\n",
       "      <td>110</td>\n",
       "    </tr>\n",
       "    <tr>\n",
       "      <th>2</th>\n",
       "      <td>WIND PHANTOM</td>\n",
       "      <td>111</td>\n",
       "    </tr>\n",
       "    <tr>\n",
       "      <th>3</th>\n",
       "      <td>SUIT WALLS</td>\n",
       "      <td>111</td>\n",
       "    </tr>\n",
       "    <tr>\n",
       "      <th>4</th>\n",
       "      <td>GROOVE FICTION</td>\n",
       "      <td>111</td>\n",
       "    </tr>\n",
       "  </tbody>\n",
       "</table>\n",
       "</div>"
      ],
      "text/plain": [
       "                 title  length\n",
       "0       CELEBRITY HORN     110\n",
       "1  SEATTLE EXPECATIONS     110\n",
       "2         WIND PHANTOM     111\n",
       "3           SUIT WALLS     111\n",
       "4       GROOVE FICTION     111"
      ]
     },
     "metadata": {},
     "output_type": "display_data"
    }
   ],
   "source": [
    "q11 = \"\"\"\n",
    "SELECT\n",
    "    f1.title,\n",
    "    f1.length\n",
    "FROM film f1\n",
    "WHERE f1.length > (\n",
    "    SELECT AVG(f2.length)\n",
    "    FROM film f2\n",
    "    WHERE f1.replacement_cost = f2.replacement_cost\n",
    ")\n",
    "ORDER BY f1.length ASC;\n",
    "\"\"\"\n",
    "df11 = run_query(q11)\n",
    "print(\"QUERY 11 RESULTS (top 5 rows):\")\n",
    "display(df11.head(5))"
   ]
  },
  {
   "cell_type": "markdown",
   "id": "ca742186-1d7e-46cd-a705-435f8d617cec",
   "metadata": {},
   "source": [
    "**Key Finding**: CELEBRITY HORN and SEATTLE EXPECTATIONS (110 minutes each)  \n",
    "**Programming Impact**: Optimizes content scheduling"
   ]
  },
  {
   "cell_type": "markdown",
   "id": "31af2252-c87e-4559-a7cd-e92df23ad7d3",
   "metadata": {},
   "source": [
    "---\n",
    "## Query 12: District Value Analysis\n",
    "---\n",
    "**Business Need**: Analyze customer lifetime value by district."
   ]
  },
  {
   "cell_type": "code",
   "execution_count": 13,
   "id": "61d43900-bce2-4689-8892-c6e4cb2ede10",
   "metadata": {},
   "outputs": [
    {
     "name": "stdout",
     "output_type": "stream",
     "text": [
      "QUERY 12 RESULTS (top 5 rows):\n"
     ]
    },
    {
     "data": {
      "text/html": [
       "<div>\n",
       "<style scoped>\n",
       "    .dataframe tbody tr th:only-of-type {\n",
       "        vertical-align: middle;\n",
       "    }\n",
       "\n",
       "    .dataframe tbody tr th {\n",
       "        vertical-align: top;\n",
       "    }\n",
       "\n",
       "    .dataframe thead th {\n",
       "        text-align: right;\n",
       "    }\n",
       "</style>\n",
       "<table border=\"1\" class=\"dataframe\">\n",
       "  <thead>\n",
       "    <tr style=\"text-align: right;\">\n",
       "      <th></th>\n",
       "      <th>district</th>\n",
       "      <th>avg_customer_spent</th>\n",
       "    </tr>\n",
       "  </thead>\n",
       "  <tbody>\n",
       "    <tr>\n",
       "      <th>0</th>\n",
       "      <td>Saint-Denis</td>\n",
       "      <td>216.54</td>\n",
       "    </tr>\n",
       "    <tr>\n",
       "      <th>1</th>\n",
       "      <td>Minsk</td>\n",
       "      <td>195.58</td>\n",
       "    </tr>\n",
       "    <tr>\n",
       "      <th>2</th>\n",
       "      <td>Skikda</td>\n",
       "      <td>173.63</td>\n",
       "    </tr>\n",
       "    <tr>\n",
       "      <th>3</th>\n",
       "      <td>Khartum</td>\n",
       "      <td>169.65</td>\n",
       "    </tr>\n",
       "    <tr>\n",
       "      <th>4</th>\n",
       "      <td>Pietari</td>\n",
       "      <td>162.62</td>\n",
       "    </tr>\n",
       "  </tbody>\n",
       "</table>\n",
       "</div>"
      ],
      "text/plain": [
       "      district  avg_customer_spent\n",
       "0  Saint-Denis              216.54\n",
       "1        Minsk              195.58\n",
       "2       Skikda              173.63\n",
       "3      Khartum              169.65\n",
       "4      Pietari              162.62"
      ]
     },
     "metadata": {},
     "output_type": "display_data"
    }
   ],
   "source": [
    "q12 = \"\"\"\n",
    "SELECT\n",
    "    a.district,\n",
    "    ROUND(AVG(sub.total), 2) as avg_customer_spent\n",
    "FROM (\n",
    "    SELECT \n",
    "        c.customer_id,\n",
    "        a.district,\n",
    "        SUM(p.amount) as total\n",
    "    FROM payment p\n",
    "    INNER JOIN customer c ON c.customer_id = p.customer_id\n",
    "    INNER JOIN address a ON c.address_id = a.address_id\n",
    "    GROUP BY c.customer_id, a.district\n",
    ") sub\n",
    "INNER JOIN address a ON sub.district = a.district\n",
    "GROUP BY a.district\n",
    "ORDER BY avg_customer_spent DESC;\n",
    "\"\"\"\n",
    "df12 = run_query(q12)\n",
    "print(\"QUERY 12 RESULTS (top 5 rows):\")\n",
    "display(df12.head(5))"
   ]
  },
  {
   "cell_type": "markdown",
   "id": "8f522db4-4a26-49a0-ae98-b5f2e08715f1",
   "metadata": {},
   "source": [
    "**Key Finding**: Saint-Denis district leads with $216.54 average value  \n",
    "**Marketing Impact**: Guides targeted campaigns"
   ]
  },
  {
   "cell_type": "markdown",
   "id": "c35bbe14-981e-492e-ae7e-0ec49dc801b6",
   "metadata": {},
   "source": [
    "---\n",
    "## Query 13: Category Payment Analysis\n",
    "---\n",
    "**Business Need**: Track payment patterns across categories."
   ]
  },
  {
   "cell_type": "code",
   "execution_count": 14,
   "id": "b6b0791f-571d-4085-9bde-b567da76ca64",
   "metadata": {},
   "outputs": [
    {
     "name": "stdout",
     "output_type": "stream",
     "text": [
      "QUERY 13 RESULTS (showing first 5 rows):\n"
     ]
    },
    {
     "data": {
      "text/html": [
       "<div>\n",
       "<style scoped>\n",
       "    .dataframe tbody tr th:only-of-type {\n",
       "        vertical-align: middle;\n",
       "    }\n",
       "\n",
       "    .dataframe tbody tr th {\n",
       "        vertical-align: top;\n",
       "    }\n",
       "\n",
       "    .dataframe thead th {\n",
       "        text-align: right;\n",
       "    }\n",
       "</style>\n",
       "<table border=\"1\" class=\"dataframe\">\n",
       "  <thead>\n",
       "    <tr style=\"text-align: right;\">\n",
       "      <th></th>\n",
       "      <th>title</th>\n",
       "      <th>amount</th>\n",
       "      <th>name</th>\n",
       "      <th>payment_id</th>\n",
       "      <th>category_total</th>\n",
       "    </tr>\n",
       "  </thead>\n",
       "  <tbody>\n",
       "    <tr>\n",
       "      <th>0</th>\n",
       "      <td>DANCES NONE</td>\n",
       "      <td>2.99</td>\n",
       "      <td>Action</td>\n",
       "      <td>16055</td>\n",
       "      <td>4375.85</td>\n",
       "    </tr>\n",
       "    <tr>\n",
       "      <th>1</th>\n",
       "      <td>CASUALTIES ENCINO</td>\n",
       "      <td>10.99</td>\n",
       "      <td>Action</td>\n",
       "      <td>16073</td>\n",
       "      <td>4375.85</td>\n",
       "    </tr>\n",
       "    <tr>\n",
       "      <th>2</th>\n",
       "      <td>WATERFRONT DELIVERANCE</td>\n",
       "      <td>4.99</td>\n",
       "      <td>Action</td>\n",
       "      <td>16075</td>\n",
       "      <td>4375.85</td>\n",
       "    </tr>\n",
       "    <tr>\n",
       "      <th>3</th>\n",
       "      <td>PARK CITIZEN</td>\n",
       "      <td>4.99</td>\n",
       "      <td>Action</td>\n",
       "      <td>16093</td>\n",
       "      <td>4375.85</td>\n",
       "    </tr>\n",
       "    <tr>\n",
       "      <th>4</th>\n",
       "      <td>FOOL MOCKINGBIRD</td>\n",
       "      <td>5.99</td>\n",
       "      <td>Action</td>\n",
       "      <td>16094</td>\n",
       "      <td>4375.85</td>\n",
       "    </tr>\n",
       "  </tbody>\n",
       "</table>\n",
       "</div>"
      ],
      "text/plain": [
       "                    title  amount    name  payment_id  category_total\n",
       "0             DANCES NONE    2.99  Action       16055         4375.85\n",
       "1       CASUALTIES ENCINO   10.99  Action       16073         4375.85\n",
       "2  WATERFRONT DELIVERANCE    4.99  Action       16075         4375.85\n",
       "3            PARK CITIZEN    4.99  Action       16093         4375.85\n",
       "4        FOOL MOCKINGBIRD    5.99  Action       16094         4375.85"
      ]
     },
     "metadata": {},
     "output_type": "display_data"
    }
   ],
   "source": [
    "q13 = \"\"\"\n",
    "SELECT \n",
    "    f.title,\n",
    "    p.amount,\n",
    "    c.name,\n",
    "    p.payment_id,\n",
    "    (\n",
    "        SELECT SUM(p2.amount)\n",
    "        FROM payment p2\n",
    "        LEFT JOIN rental r2 ON r2.rental_id = p2.rental_id\n",
    "        LEFT JOIN inventory i2 ON i2.inventory_id = r2.inventory_id\n",
    "        LEFT JOIN film f2 ON f2.film_id = i2.film_id\n",
    "        LEFT JOIN film_category fc2 ON fc2.film_id = f2.film_id\n",
    "        LEFT JOIN category c2 ON c2.category_id = fc2.category_id\n",
    "        WHERE c2.name = c.name\n",
    "    ) as category_total\n",
    "FROM payment p\n",
    "LEFT JOIN rental r ON r.rental_id = p.rental_id\n",
    "LEFT JOIN inventory i ON i.inventory_id = r.inventory_id\n",
    "LEFT JOIN film f ON f.film_id = i.film_id\n",
    "LEFT JOIN film_category fc ON fc.film_id = f.film_id\n",
    "LEFT JOIN category c ON c.category_id = fc.category_id\n",
    "ORDER BY c.name, p.payment_id;\n",
    "\"\"\"\n",
    "df13 = run_query(q13)\n",
    "print(\"QUERY 13 RESULTS (showing first 5 rows):\")\n",
    "display(df13.head(5))"
   ]
  },
  {
   "cell_type": "markdown",
   "id": "e38d5df7-3a12-4f28-b169-55be560cd1c8",
   "metadata": {},
   "source": [
    "**Key Finding**: Action category revenue: $4,375.85 (lowest payment_id = 16055)  \n",
    "**Business Impact**: Informs category-based strategies"
   ]
  },
  {
   "cell_type": "markdown",
   "id": "10a8ec0f-9060-4a89-a20c-73f97b5e7161",
   "metadata": {},
   "source": [
    "---\n",
    "## Query 14: Category Performance Analysis\n",
    "---\n",
    "**Business Need**: Identify top-performing films per category."
   ]
  },
  {
   "cell_type": "code",
   "execution_count": 15,
   "id": "e8714013-1bb7-418f-adb3-11dd5bba71c2",
   "metadata": {},
   "outputs": [
    {
     "name": "stdout",
     "output_type": "stream",
     "text": [
      "QUERY 14 RESULTS:\n"
     ]
    },
    {
     "data": {
      "text/html": [
       "<div>\n",
       "<style scoped>\n",
       "    .dataframe tbody tr th:only-of-type {\n",
       "        vertical-align: middle;\n",
       "    }\n",
       "\n",
       "    .dataframe tbody tr th {\n",
       "        vertical-align: top;\n",
       "    }\n",
       "\n",
       "    .dataframe thead th {\n",
       "        text-align: right;\n",
       "    }\n",
       "</style>\n",
       "<table border=\"1\" class=\"dataframe\">\n",
       "  <thead>\n",
       "    <tr style=\"text-align: right;\">\n",
       "      <th></th>\n",
       "      <th>title</th>\n",
       "      <th>name</th>\n",
       "      <th>total</th>\n",
       "    </tr>\n",
       "  </thead>\n",
       "  <tbody>\n",
       "    <tr>\n",
       "      <th>0</th>\n",
       "      <td>RANGE MOONWALKER</td>\n",
       "      <td>Family</td>\n",
       "      <td>179.73</td>\n",
       "    </tr>\n",
       "    <tr>\n",
       "      <th>1</th>\n",
       "      <td>TORQUE BOUND</td>\n",
       "      <td>Drama</td>\n",
       "      <td>198.72</td>\n",
       "    </tr>\n",
       "    <tr>\n",
       "      <th>2</th>\n",
       "      <td>LOLA AGENT</td>\n",
       "      <td>Horror</td>\n",
       "      <td>159.76</td>\n",
       "    </tr>\n",
       "    <tr>\n",
       "      <th>3</th>\n",
       "      <td>BUCKET BROTHERHOOD</td>\n",
       "      <td>Travel</td>\n",
       "      <td>180.66</td>\n",
       "    </tr>\n",
       "    <tr>\n",
       "      <th>4</th>\n",
       "      <td>INNOCENT USUAL</td>\n",
       "      <td>Foreign</td>\n",
       "      <td>191.74</td>\n",
       "    </tr>\n",
       "    <tr>\n",
       "      <th>5</th>\n",
       "      <td>BACKLASH UNDEFEATED</td>\n",
       "      <td>Children</td>\n",
       "      <td>158.81</td>\n",
       "    </tr>\n",
       "    <tr>\n",
       "      <th>6</th>\n",
       "      <td>TELEGRAPH VOYAGE</td>\n",
       "      <td>Music</td>\n",
       "      <td>231.73</td>\n",
       "    </tr>\n",
       "    <tr>\n",
       "      <th>7</th>\n",
       "      <td>ZORRO ARK</td>\n",
       "      <td>Comedy</td>\n",
       "      <td>214.69</td>\n",
       "    </tr>\n",
       "    <tr>\n",
       "      <th>8</th>\n",
       "      <td>GOODFELLAS SALUTE</td>\n",
       "      <td>Sci-Fi</td>\n",
       "      <td>209.69</td>\n",
       "    </tr>\n",
       "    <tr>\n",
       "      <th>9</th>\n",
       "      <td>WIFE TURN</td>\n",
       "      <td>Documentary</td>\n",
       "      <td>223.69</td>\n",
       "    </tr>\n",
       "    <tr>\n",
       "      <th>10</th>\n",
       "      <td>MAIDEN HOME</td>\n",
       "      <td>New</td>\n",
       "      <td>163.76</td>\n",
       "    </tr>\n",
       "    <tr>\n",
       "      <th>11</th>\n",
       "      <td>FOOL MOCKINGBIRD</td>\n",
       "      <td>Action</td>\n",
       "      <td>175.77</td>\n",
       "    </tr>\n",
       "    <tr>\n",
       "      <th>12</th>\n",
       "      <td>SATURDAY LAMBS</td>\n",
       "      <td>Sports</td>\n",
       "      <td>204.72</td>\n",
       "    </tr>\n",
       "    <tr>\n",
       "      <th>13</th>\n",
       "      <td>DOGMA FAMILY</td>\n",
       "      <td>Animation</td>\n",
       "      <td>178.70</td>\n",
       "    </tr>\n",
       "    <tr>\n",
       "      <th>14</th>\n",
       "      <td>STEEL SANTA</td>\n",
       "      <td>Classics</td>\n",
       "      <td>141.77</td>\n",
       "    </tr>\n",
       "    <tr>\n",
       "      <th>15</th>\n",
       "      <td>MASSACRE USUAL</td>\n",
       "      <td>Games</td>\n",
       "      <td>179.70</td>\n",
       "    </tr>\n",
       "  </tbody>\n",
       "</table>\n",
       "</div>"
      ],
      "text/plain": [
       "                  title         name   total\n",
       "0      RANGE MOONWALKER       Family  179.73\n",
       "1          TORQUE BOUND        Drama  198.72\n",
       "2            LOLA AGENT       Horror  159.76\n",
       "3    BUCKET BROTHERHOOD       Travel  180.66\n",
       "4        INNOCENT USUAL      Foreign  191.74\n",
       "5   BACKLASH UNDEFEATED     Children  158.81\n",
       "6      TELEGRAPH VOYAGE        Music  231.73\n",
       "7             ZORRO ARK       Comedy  214.69\n",
       "8     GOODFELLAS SALUTE       Sci-Fi  209.69\n",
       "9             WIFE TURN  Documentary  223.69\n",
       "10          MAIDEN HOME          New  163.76\n",
       "11     FOOL MOCKINGBIRD       Action  175.77\n",
       "12       SATURDAY LAMBS       Sports  204.72\n",
       "13         DOGMA FAMILY    Animation  178.70\n",
       "14          STEEL SANTA     Classics  141.77\n",
       "15       MASSACRE USUAL        Games  179.70"
      ]
     },
     "metadata": {},
     "output_type": "display_data"
    }
   ],
   "source": [
    "q14 = \"\"\"\n",
    "SELECT \n",
    "    f.title,\n",
    "    c.name,\n",
    "    SUM(p.amount) as total\n",
    "FROM payment p\n",
    "LEFT JOIN rental r ON r.rental_id = p.rental_id\n",
    "LEFT JOIN inventory i ON i.inventory_id = r.inventory_id\n",
    "LEFT JOIN film f ON f.film_id = i.film_id\n",
    "LEFT JOIN film_category fc ON fc.film_id = f.film_id\n",
    "LEFT JOIN category c ON c.category_id = fc.category_id\n",
    "GROUP BY c.name, f.title\n",
    "HAVING SUM(p.amount) = (\n",
    "    SELECT MAX(sub.total)\n",
    "    FROM (\n",
    "        SELECT \n",
    "            f2.title,\n",
    "            c2.name,\n",
    "            SUM(p2.amount) as total\n",
    "        FROM payment p2\n",
    "        LEFT JOIN rental r2 ON r2.rental_id = p2.rental_id\n",
    "        LEFT JOIN inventory i2 ON i2.inventory_id = r2.inventory_id\n",
    "        LEFT JOIN film f2 ON f2.film_id = i2.film_id\n",
    "        LEFT JOIN film_category fc2 ON fc2.film_id = f2.film_id\n",
    "        LEFT JOIN category c2 ON c2.category_id = fc2.category_id\n",
    "        GROUP BY c2.name, f2.title\n",
    "    ) sub\n",
    "    WHERE sub.name = c.name\n",
    ");\n",
    "\"\"\"\n",
    "df14 = run_query(q14)\n",
    "print(\"QUERY 14 RESULTS:\")\n",
    "display(df14)"
   ]
  }
 ],
 "metadata": {
  "kernelspec": {
   "display_name": "Python 3 (ipykernel)",
   "language": "python",
   "name": "python3"
  },
  "language_info": {
   "codemirror_mode": {
    "name": "ipython",
    "version": 3
   },
   "file_extension": ".py",
   "mimetype": "text/x-python",
   "name": "python",
   "nbconvert_exporter": "python",
   "pygments_lexer": "ipython3",
   "version": "3.13.0"
  }
 },
 "nbformat": 4,
 "nbformat_minor": 5
}
